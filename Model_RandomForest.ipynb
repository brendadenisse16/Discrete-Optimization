{
  "cells": [
    {
      "cell_type": "markdown",
      "metadata": {
        "id": "view-in-github",
        "colab_type": "text"
      },
      "source": [
        "<a href=\"https://colab.research.google.com/github/brendadenisse16/Discrete-Optimization/blob/main/Model_RandomForest.ipynb\" target=\"_parent\"><img src=\"https://colab.research.google.com/assets/colab-badge.svg\" alt=\"Open In Colab\"/></a>"
      ]
    },
    {
      "cell_type": "code",
      "source": [
        "#%pip install tensorflow"
      ],
      "metadata": {
        "id": "DAOiabxDsKnS"
      },
      "execution_count": null,
      "outputs": []
    },
    {
      "cell_type": "code",
      "source": [
        "#Random Forest with basic sensors (not Heading) + Dist Metro and Bus Corridors & IsAndroid\n",
        "\"\"\"\n",
        "Created on Thu June 9 2022\n",
        "\n",
        "@author: BC\n",
        "\"\"\"\n",
        "\n",
        "\n",
        "#%pip install tensorflow_decision_forests\n",
        "\n",
        "import tensorflow_decision_forests as tfdf\n",
        "import tensorflow as tf\n",
        "import numpy as np\n",
        "import pandas as pd\n",
        "from datetime import datetime\n",
        "import math\n",
        "from sklearn.preprocessing import LabelEncoder\n",
        "from sklearn.model_selection import StratifiedShuffleSplit  # to do stratified sampling\n",
        "from sklearn.model_selection import train_test_split\n",
        "\n",
        "from sklearn.metrics import accuracy_score\n",
        "from sklearn.metrics import classification_report, confusion_matrix, roc_auc_score\n",
        "\n",
        "from scipy.stats import skew\n",
        "from scipy.stats import kurtosis\n",
        "from tensorflow.keras import Sequential\n",
        "from tensorflow.keras.layers import Dense\n",
        "import tensorflow as tf\n",
        "import os\n",
        "\n",
        "import importlib\n",
        "\n",
        "\n",
        "# upload raw data\n",
        "df = pd.read_csv('new_20220428clean_copy.csv')\n",
        "\n",
        "total = len(df)\n",
        "\n",
        "# feature engineering with statistical features\n",
        "dataList = df.values.tolist()\n",
        "\n",
        "Number_variable = 11 # number of variables (without heading )\n",
        "Number_rawsessions = 6 # number of snapshots for aggregation\n",
        "Gap_between_snapshot = 120000 #nano_seconds\n",
        "\n",
        "Datanew = []\n",
        "\n",
        "count = 0\n",
        "for i in range(len(dataList)):\n",
        "    #print(i)\n",
        "    # Pour changer le nombre de snapshot à considérer\n",
        "    if (i>=5 and i!=(len(dataList)-1)):\n",
        "        if (\n",
        "           #6 first snapshot have the same TM\n",
        "            dataList[i][4]==dataList[i-1][4] and dataList[i][4]==dataList[i-2][4] \n",
        "            and dataList[i][4]==dataList[i-3][4] and dataList[i][4]==dataList[i-4][4] \n",
        "            and dataList[i][4]==dataList[i-5][4]  \n",
        "\n",
        "            #TM are only Car\n",
        "            and dataList[i][4]!='walk' and dataList[i][4]!='run' and dataList[i][4]!='bike' \n",
        "\n",
        "            #All the same user\n",
        "            and dataList[i][6]==dataList[i-1][6] and dataList[i][6]==dataList[i-2][6] \n",
        "            and dataList[i][6]==dataList[i-3][6] and dataList[i][6]==dataList[i-4][6] \n",
        "            and dataList[i][6]==dataList[i-5][6]\n",
        "\n",
        "            #Maximum gap  between snapshot...\n",
        "            and (dataList[i][5]-dataList[i-1][5])<Gap_between_snapshot and (dataList[i-1][5]-dataList[i-2][5])<Gap_between_snapshot \n",
        "            and (dataList[i-2][5]-dataList[i-3][5])<Gap_between_snapshot and (dataList[i-3][5]-dataList[i-4][5])<Gap_between_snapshot \n",
        "            and (dataList[i-4][5]-dataList[i-5][5])<Gap_between_snapshot\n",
        "\n",
        "            ):\n",
        "            #X=[count,dataList[i][13]]\n",
        "            # [dataList[i][0]: PID\n",
        "            # dataList[i][5]: Transport mode \n",
        "            X=[dataList[i][0], count, dataList[i][4]] #variables:PID, count y ActitivityType\n",
        "            #print(dataList[i][5])\n",
        "            #print(dataList[i-1][1])\n",
        "            for j in range(Number_variable):\n",
        "                if ((j+1) < 4): # con esto se que solo abarca :speed,  accuracy and altitde variables (col 1 a 3)\n",
        "              #10 = distance -» Tout sauf distanceBus et Train apres mangent (6)\n",
        "           #     if ((j+1) < 4 ):\n",
        "                  data = [dataList[i-1][j+1],dataList[i][j+1],dataList[i-2][j+1],dataList[i-3][j+1],dataList[i-4][j+1],dataList[i-5][j+1]]  \n",
        "                  x1 =  np.min(data)\n",
        "                  x2 =  np.max(data)\n",
        "                  x3 =  np.mean(data)\n",
        "                  x4 =  np.std(data)\n",
        "                  \n",
        "                  #new features\n",
        "                  x5 =  np.median(data)\n",
        "                  x6 =  np.percentile((data),75)\n",
        "\n",
        "                  X = X+[x1,x2,x3,x4,x5,x6]\n",
        "\n",
        "                if ((j+1) >= 7 and (j+1) < 11): #con esto solo cubre las columnas: busDistanceStops, TrainDistance, BusCorridorDistance and MetroDistance\n",
        "                  x1 = np.sum([dataList[i-1][j+1],dataList[i][j+1],dataList[i-2][j+1],dataList[i-3][j+1],dataList[i-4][j+1],dataList[i-5][j+1]])\n",
        "                  X = X + [x1]\n",
        "                if ((j+1) == 11 ): # se refiere a la variable \"isAndroid\"\n",
        "                  x1 = dataList[i][j+1]\n",
        "                  X = X + [x1]\n",
        "\n",
        "            Datanew.append(X) \n",
        "            count = count + 1\n",
        "            #print(X)\n",
        "#random.shuffle(Datanew)\n",
        "\n",
        "Features= pd.DataFrame(Datanew, columns = ['id', 'count', 'transportation_mode', \n",
        "                              'minSpeed' ,'maxSpeed', 'meanSpeed', 'stdSpeed','medianSpeed','75thPerSpeed',\n",
        "                              'minAccuracy' ,'maxAccuracy', 'meanAccuracy', 'stdAccuracy', 'medianAccuracy','75thPerAccuracy',\n",
        "                              'minAlt' ,'maxAlt', 'meanAlt', 'stdAlt', 'medianAlt','75thPerAlt',\n",
        "                              'NumDist','NumDistTrain','NumDistBusCorridor','NumDistMetro','IsAndroid'\n",
        "                              ])\n",
        "\n",
        "# Process to  split data in stratified way\n",
        "data = Features.iloc[0:,2:Features.shape[1]]\n",
        "data['target_labeled'] = LabelEncoder().fit_transform(Features.iloc[0:,2])\n",
        "data =data[['target_labeled','minSpeed' ,'maxSpeed', 'meanSpeed', 'stdSpeed','medianSpeed','75thPerSpeed',\n",
        "                              'minAccuracy' ,'maxAccuracy', 'meanAccuracy', 'stdAccuracy', 'medianAccuracy','75thPerAccuracy',\n",
        "                              'minAlt' ,'maxAlt', 'meanAlt', 'stdAlt', 'medianAlt','75thPerAlt',\n",
        "                              'NumDist','NumDistTrain','NumDistBusCorridor','NumDistMetro','IsAndroid']] \n",
        "\n",
        "split = StratifiedShuffleSplit(n_splits=1, test_size = 0.33, random_state=42)\n",
        "for train_index, test_index in split.split(data, data['target_labeled']):\n",
        "    strat_train = data.loc[train_index]\n",
        "    strat_test = data.loc[test_index]\n",
        "\n",
        "\n",
        "# Convert the pandas dataframe into a TensorFlow dataset\n",
        "train_ds = tfdf.keras.pd_dataframe_to_tf_dataset(strat_train, label=\"target_labeled\")\n",
        "\n",
        "# Convert it to a TensorFlow dataset\n",
        "test_ds = tfdf.keras.pd_dataframe_to_tf_dataset(strat_test, label=\"target_labeled\")\n",
        "\n",
        "# Train the model using Random Forest\n",
        "model = tfdf.keras.RandomForestModel(num_trees=69, max_depth=35, min_examples=4, random_seed=0)\n",
        "#model = tfdf.keras.RandomForestModel(num_trees=69, min_examples=4, random_seed=0)\n",
        "model.fit(train_ds)\n",
        "\n",
        "#Evaluating the performance of the model\n",
        "model.compile(metrics=[\"accuracy\"])\n",
        "print(model.evaluate(test_ds))\n",
        "\n",
        "loss, test_acc = model.evaluate(test_ds, verbose=0)\n",
        "#evalutat the train model\n",
        "train_loss, train_acc = model.evaluate(train_ds, verbose=0)\n",
        "\n",
        "print('Train: %.3f, Test: %.3f' % (train_acc, test_acc))\n",
        "\n",
        "# prediction with test data set\n",
        "Y_predicted = model.predict(test_ds)\n",
        "\n",
        "y_pred_bool = np.argmax(Y_predicted, axis=1)\n",
        "\n",
        "y_testdf = strat_test.iloc[0:,0].to_numpy().astype('int32')\n",
        "\n",
        "print(\"classification accuracy for each mode:\")\n",
        "print(classification_report(y_testdf, y_pred_bool))\n",
        "\n",
        "print(\"confusion_matrix: \")\n",
        "print(confusion_matrix(y_testdf, y_pred_bool))\n",
        "\n",
        "print(\"ROC accuracy score:\")\n",
        "print(roc_auc_score(y_testdf, Y_predicted, multi_class='ovo'))\n",
        "\n"
      ],
      "metadata": {
        "id": "Xt8Cbr3krTHS",
        "outputId": "5882f6b7-bd79-4520-fc1c-bf8b1c6339ea",
        "colab": {
          "base_uri": "https://localhost:8080/"
        }
      },
      "execution_count": 9,
      "outputs": [
        {
          "output_type": "stream",
          "name": "stdout",
          "text": [
            "Use /tmp/tmp8wjkkv2a as temporary training directory\n",
            "Reading training dataset...\n"
          ]
        },
        {
          "output_type": "stream",
          "name": "stderr",
          "text": [
            "/usr/local/lib/python3.7/dist-packages/tensorflow_decision_forests/keras/core.py:2542: FutureWarning: In a future version of pandas all arguments of DataFrame.drop except for the argument 'labels' will be keyword-only\n",
            "  features_dataframe = dataframe.drop(label, 1)\n"
          ]
        },
        {
          "output_type": "stream",
          "name": "stdout",
          "text": [
            "Training dataset read in 0:00:01.380379. Found 59401 examples.\n",
            "Training model...\n",
            "Model trained in 0:00:34.135589\n",
            "Compiling model...\n",
            "Model compiled.\n",
            "30/30 [==============================] - 1s 32ms/step - loss: 0.0000e+00 - accuracy: 0.9600\n",
            "[0.0, 0.9600109457969666]\n",
            "Train: 0.997, Test: 0.960\n",
            "30/30 [==============================] - 1s 34ms/step\n",
            "classification accuracy for each mode:\n",
            "              precision    recall  f1-score   support\n",
            "\n",
            "           0       0.95      0.69      0.80      3190\n",
            "           1       0.96      0.99      0.98     23938\n",
            "           2       0.97      0.97      0.97      1295\n",
            "           3       0.99      0.99      0.99       835\n",
            "\n",
            "    accuracy                           0.96     29258\n",
            "   macro avg       0.97      0.91      0.93     29258\n",
            "weighted avg       0.96      0.96      0.96     29258\n",
            "\n",
            "confusion_matrix: \n",
            "[[ 2200   967    20     3]\n",
            " [  111 23809    12     6]\n",
            " [    8    37  1250     0]\n",
            " [    0     3     3   829]]\n",
            "ROC accuracy score:\n",
            "0.9965141540965137\n"
          ]
        }
      ]
    },
    {
      "cell_type": "code",
      "source": [
        "#Plotting the training logs\n",
        "import matplotlib.pyplot as plt\n",
        "\n",
        "logs = model.make_inspector().training_logs()\n",
        "\n",
        "plt.figure(figsize=(12, 4))\n",
        "\n",
        "plt.subplot(1, 2, 1)\n",
        "plt.plot([log.num_trees for log in logs], [log.evaluation.accuracy for log in logs])\n",
        "plt.xlabel(\"Number of trees\")\n",
        "plt.ylabel(\"Accuracy (out-of-bag)\")\n",
        "\n",
        "plt.subplot(1, 2, 2)\n",
        "plt.plot([log.num_trees for log in logs], [log.evaluation.loss for log in logs])\n",
        "plt.xlabel(\"Number of trees\")\n",
        "plt.ylabel(\"Logloss (out-of-bag)\")\n",
        "\n",
        "plt.show()\n"
      ],
      "metadata": {
        "colab": {
          "base_uri": "https://localhost:8080/",
          "height": 279
        },
        "id": "H6s1LHYZqY6r",
        "outputId": "ac769e89-2255-4aad-9c63-4605e5c959e8"
      },
      "execution_count": 10,
      "outputs": [
        {
          "output_type": "display_data",
          "data": {
            "text/plain": [
              "<Figure size 864x288 with 2 Axes>"
            ],
            "image/png": "[encoded data removed]"
          },
          "metadata": {
            "needs_background": "light"
          }
        }
      ]
    },
    {
      "cell_type": "code",
      "source": [
        "# The feature importances\n",
        "#model.make_inspector().variable_importances()\n",
        "\n",
        "inspector = model.make_inspector()\n"
      ],
      "metadata": {
        "id": "D9kL1FzvqZVe"
      },
      "execution_count": 11,
      "outputs": []
    },
    {
      "cell_type": "code",
      "source": [
        "#Best Features\n",
        "print(\"Input features:\", inspector.features())\n"
      ],
      "metadata": {
        "colab": {
          "base_uri": "https://localhost:8080/"
        },
        "id": "6RLBywvlsJMD",
        "outputId": "665d2ab3-6ea7-4f18-f965-e67c3310f24c"
      },
      "execution_count": 12,
      "outputs": [
        {
          "output_type": "stream",
          "name": "stdout",
          "text": [
            "Input features: [\"75thPerAccuracy\" (1; #0), \"75thPerAlt\" (1; #1), \"75thPerSpeed\" (1; #2), \"IsAndroid\" (1; #3), \"NumDist\" (1; #4), \"NumDistBusCorridor\" (1; #5), \"NumDistMetro\" (1; #6), \"NumDistTrain\" (1; #7), \"maxAccuracy\" (1; #8), \"maxAlt\" (1; #9), \"maxSpeed\" (1; #10), \"meanAccuracy\" (1; #11), \"meanAlt\" (1; #12), \"meanSpeed\" (1; #13), \"medianAccuracy\" (1; #14), \"medianAlt\" (1; #15), \"medianSpeed\" (1; #16), \"minAccuracy\" (1; #17), \"minAlt\" (1; #18), \"minSpeed\" (1; #19), \"stdAccuracy\" (1; #20), \"stdAlt\" (1; #21), \"stdSpeed\" (1; #22)]\n"
          ]
        }
      ]
    },
    {
      "cell_type": "code",
      "source": [
        "#model.make_inspector().variable_importances()\n",
        "print(f\"Available variable importances:\")\n",
        "for importance in inspector.variable_importances().keys():\n",
        "  print(\"\\t\", importance)\n"
      ],
      "metadata": {
        "colab": {
          "base_uri": "https://localhost:8080/"
        },
        "id": "cfr23-srsULa",
        "outputId": "5d2db529-f189-4f4c-98ee-0ccfcfe75363"
      },
      "execution_count": 13,
      "outputs": [
        {
          "output_type": "stream",
          "name": "stdout",
          "text": [
            "Available variable importances:\n",
            "\t NUM_NODES\n",
            "\t NUM_AS_ROOT\n",
            "\t SUM_SCORE\n",
            "\t MEAN_MIN_DEPTH\n"
          ]
        }
      ]
    },
    {
      "cell_type": "code",
      "source": [
        "# Mean decrease in AUC of the class 1 vs the others.\n",
        "inspector.variable_importances()[\"NUM_AS_ROOT\"]\n"
      ],
      "metadata": {
        "colab": {
          "base_uri": "https://localhost:8080/"
        },
        "id": "gnUdLIf_t3Mm",
        "outputId": "d79cd85a-d2fa-4e80-d8e0-4ed2a8cc2472"
      },
      "execution_count": 14,
      "outputs": [
        {
          "output_type": "execute_result",
          "data": {
            "text/plain": [
              "[(\"75thPerSpeed\" (1; #2), 18.0),\n",
              " (\"maxSpeed\" (1; #10), 14.0),\n",
              " (\"medianSpeed\" (1; #16), 12.0),\n",
              " (\"meanSpeed\" (1; #13), 9.0),\n",
              " (\"NumDistTrain\" (1; #7), 6.0),\n",
              " (\"75thPerAccuracy\" (1; #0), 2.0),\n",
              " (\"maxAccuracy\" (1; #8), 2.0),\n",
              " (\"medianAccuracy\" (1; #14), 2.0),\n",
              " (\"minAccuracy\" (1; #17), 2.0),\n",
              " (\"meanAccuracy\" (1; #11), 1.0),\n",
              " (\"stdAccuracy\" (1; #20), 1.0)]"
            ]
          },
          "metadata": {},
          "execution_count": 14
        }
      ]
    },
    {
      "cell_type": "markdown",
      "source": [
        "Saved Model"
      ],
      "metadata": {
        "id": "_Wh4Oeaoqayq"
      }
    },
    {
      "cell_type": "code",
      "source": [
        "# Export the model to a TensorFlow SavedModel\n",
        "model.save(\"project/model_randomforest\")"
      ],
      "metadata": {
        "colab": {
          "base_uri": "https://localhost:8080/"
        },
        "id": "zFnFASHIRiX3",
        "outputId": "dadc6f08-8ca5-48d0-d56b-92a2aa79fc15"
      },
      "execution_count": 15,
      "outputs": [
        {
          "output_type": "stream",
          "name": "stderr",
          "text": [
            "WARNING:absl:Function `_wrapped_model` contains input name(s) 75thPerAccuracy, 75thPerAlt, 75thPerSpeed, IsAndroid, NumDist, NumDistBusCorridor, NumDistMetro, NumDistTrain, maxAccuracy, maxAlt, maxSpeed, meanAccuracy, meanAlt, meanSpeed, medianAccuracy, medianAlt, medianSpeed, minAccuracy, minAlt, minSpeed, stdAccuracy, stdAlt, stdSpeed with unsupported characters which will be renamed to thperaccuracy, thperalt, thperspeed, isandroid, numdist, numdistbuscorridor, numdistmetro, numdisttrain, maxaccuracy, maxalt, maxspeed, meanaccuracy, meanalt, meanspeed, medianaccuracy, medianalt, medianspeed, minaccuracy, minalt, minspeed, stdaccuracy, stdalt, stdspeed in the SavedModel.\n",
            "WARNING:absl:Found untraced functions such as call_get_leaves while saving (showing 1 of 1). These functions will not be directly callable after loading.\n"
          ]
        },
        {
          "output_type": "stream",
          "name": "stdout",
          "text": [
            "INFO:tensorflow:Assets written to: project/model_randomforest/assets\n"
          ]
        },
        {
          "output_type": "stream",
          "name": "stderr",
          "text": [
            "INFO:tensorflow:Assets written to: project/model_randomforest/assets\n"
          ]
        }
      ]
    },
    {
      "cell_type": "code",
      "source": [
        "#from tensorflow.keras.models import load_model\n",
        "\n",
        "# load  model\n",
        "load_model = tf.keras.models.load_model('project/model_randomforest')\n",
        "\n",
        "# Convert the model tf.lite\n",
        "converter = tf.lite.TFLiteConverter.from_keras_model(load_model)\n",
        "#converter.experimental_new_converter = True\n",
        "tflite_model = converter.convert()"
      ],
      "metadata": {
        "colab": {
          "base_uri": "https://localhost:8080/",
          "height": 658
        },
        "id": "gLrDy-9fbbcH",
        "outputId": "13d90d6d-e2d9-4666-d2d7-8c91043d3606"
      },
      "execution_count": null,
      "outputs": [
        {
          "output_type": "stream",
          "name": "stderr",
          "text": [
            "WARNING:absl:Function `_wrapped_model` contains input name(s) args_0 with unsupported characters which will be renamed to args_0_22 in the SavedModel.\n",
            "WARNING:absl:Found untraced functions such as restored_function_body while saving (showing 1 of 1). These functions will not be directly callable after loading.\n"
          ]
        },
        {
          "output_type": "stream",
          "name": "stdout",
          "text": [
            "INFO:tensorflow:Assets written to: /tmp/tmpauusj6s3/assets\n"
          ]
        },
        {
          "output_type": "stream",
          "name": "stderr",
          "text": [
            "INFO:tensorflow:Assets written to: /tmp/tmpauusj6s3/assets\n"
          ]
        },
        {
          "output_type": "error",
          "ename": "ConverterError",
          "evalue": "ignored",
          "traceback": [
            "\u001b[0;31m---------------------------------------------------------------------------\u001b[0m",
            "\u001b[0;31mConverterError\u001b[0m                            Traceback (most recent call last)",
            "\u001b[0;32m<ipython-input-29-4a0640158d32>\u001b[0m in \u001b[0;36m<module>\u001b[0;34m()\u001b[0m\n\u001b[1;32m      7\u001b[0m \u001b[0mconverter\u001b[0m \u001b[0;34m=\u001b[0m \u001b[0mtf\u001b[0m\u001b[0;34m.\u001b[0m\u001b[0mlite\u001b[0m\u001b[0;34m.\u001b[0m\u001b[0mTFLiteConverter\u001b[0m\u001b[0;34m.\u001b[0m\u001b[0mfrom_keras_model\u001b[0m\u001b[0;34m(\u001b[0m\u001b[0mload_model\u001b[0m\u001b[0;34m)\u001b[0m\u001b[0;34m\u001b[0m\u001b[0;34m\u001b[0m\u001b[0m\n\u001b[1;32m      8\u001b[0m \u001b[0;31m#converter.experimental_new_converter = True\u001b[0m\u001b[0;34m\u001b[0m\u001b[0;34m\u001b[0m\u001b[0;34m\u001b[0m\u001b[0m\n\u001b[0;32m----> 9\u001b[0;31m \u001b[0mtflite_model\u001b[0m \u001b[0;34m=\u001b[0m \u001b[0mconverter\u001b[0m\u001b[0;34m.\u001b[0m\u001b[0mconvert\u001b[0m\u001b[0;34m(\u001b[0m\u001b[0;34m)\u001b[0m\u001b[0;34m\u001b[0m\u001b[0;34m\u001b[0m\u001b[0m\n\u001b[0m",
            "\u001b[0;32m/usr/local/lib/python3.7/dist-packages/tensorflow/lite/python/lite.py\u001b[0m in \u001b[0;36mwrapper\u001b[0;34m(self, *args, **kwargs)\u001b[0m\n\u001b[1;32m    927\u001b[0m   \u001b[0;32mdef\u001b[0m \u001b[0mwrapper\u001b[0m\u001b[0;34m(\u001b[0m\u001b[0mself\u001b[0m\u001b[0;34m,\u001b[0m \u001b[0;34m*\u001b[0m\u001b[0margs\u001b[0m\u001b[0;34m,\u001b[0m \u001b[0;34m**\u001b[0m\u001b[0mkwargs\u001b[0m\u001b[0;34m)\u001b[0m\u001b[0;34m:\u001b[0m\u001b[0;34m\u001b[0m\u001b[0;34m\u001b[0m\u001b[0m\n\u001b[1;32m    928\u001b[0m     \u001b[0;31m# pylint: disable=protected-access\u001b[0m\u001b[0;34m\u001b[0m\u001b[0;34m\u001b[0m\u001b[0;34m\u001b[0m\u001b[0m\n\u001b[0;32m--> 929\u001b[0;31m     \u001b[0;32mreturn\u001b[0m \u001b[0mself\u001b[0m\u001b[0;34m.\u001b[0m\u001b[0m_convert_and_export_metrics\u001b[0m\u001b[0;34m(\u001b[0m\u001b[0mconvert_func\u001b[0m\u001b[0;34m,\u001b[0m \u001b[0;34m*\u001b[0m\u001b[0margs\u001b[0m\u001b[0;34m,\u001b[0m \u001b[0;34m**\u001b[0m\u001b[0mkwargs\u001b[0m\u001b[0;34m)\u001b[0m\u001b[0;34m\u001b[0m\u001b[0;34m\u001b[0m\u001b[0m\n\u001b[0m\u001b[1;32m    930\u001b[0m     \u001b[0;31m# pylint: enable=protected-access\u001b[0m\u001b[0;34m\u001b[0m\u001b[0;34m\u001b[0m\u001b[0;34m\u001b[0m\u001b[0m\n\u001b[1;32m    931\u001b[0m \u001b[0;34m\u001b[0m\u001b[0m\n",
            "\u001b[0;32m/usr/local/lib/python3.7/dist-packages/tensorflow/lite/python/lite.py\u001b[0m in \u001b[0;36m_convert_and_export_metrics\u001b[0;34m(self, convert_func, *args, **kwargs)\u001b[0m\n\u001b[1;32m    906\u001b[0m     \u001b[0mself\u001b[0m\u001b[0;34m.\u001b[0m\u001b[0m_save_conversion_params_metric\u001b[0m\u001b[0;34m(\u001b[0m\u001b[0;34m)\u001b[0m\u001b[0;34m\u001b[0m\u001b[0;34m\u001b[0m\u001b[0m\n\u001b[1;32m    907\u001b[0m     \u001b[0mstart_time\u001b[0m \u001b[0;34m=\u001b[0m \u001b[0mtime\u001b[0m\u001b[0;34m.\u001b[0m\u001b[0mprocess_time\u001b[0m\u001b[0;34m(\u001b[0m\u001b[0;34m)\u001b[0m\u001b[0;34m\u001b[0m\u001b[0;34m\u001b[0m\u001b[0m\n\u001b[0;32m--> 908\u001b[0;31m     \u001b[0mresult\u001b[0m \u001b[0;34m=\u001b[0m \u001b[0mconvert_func\u001b[0m\u001b[0;34m(\u001b[0m\u001b[0mself\u001b[0m\u001b[0;34m,\u001b[0m \u001b[0;34m*\u001b[0m\u001b[0margs\u001b[0m\u001b[0;34m,\u001b[0m \u001b[0;34m**\u001b[0m\u001b[0mkwargs\u001b[0m\u001b[0;34m)\u001b[0m\u001b[0;34m\u001b[0m\u001b[0;34m\u001b[0m\u001b[0m\n\u001b[0m\u001b[1;32m    909\u001b[0m     \u001b[0melapsed_time_ms\u001b[0m \u001b[0;34m=\u001b[0m \u001b[0;34m(\u001b[0m\u001b[0mtime\u001b[0m\u001b[0;34m.\u001b[0m\u001b[0mprocess_time\u001b[0m\u001b[0;34m(\u001b[0m\u001b[0;34m)\u001b[0m \u001b[0;34m-\u001b[0m \u001b[0mstart_time\u001b[0m\u001b[0;34m)\u001b[0m \u001b[0;34m*\u001b[0m \u001b[0;36m1000\u001b[0m\u001b[0;34m\u001b[0m\u001b[0;34m\u001b[0m\u001b[0m\n\u001b[1;32m    910\u001b[0m     \u001b[0;32mif\u001b[0m \u001b[0mresult\u001b[0m\u001b[0;34m:\u001b[0m\u001b[0;34m\u001b[0m\u001b[0;34m\u001b[0m\u001b[0m\n",
            "\u001b[0;32m/usr/local/lib/python3.7/dist-packages/tensorflow/lite/python/lite.py\u001b[0m in \u001b[0;36mconvert\u001b[0;34m(self)\u001b[0m\n\u001b[1;32m   1336\u001b[0m         \u001b[0mInvalid\u001b[0m \u001b[0mquantization\u001b[0m \u001b[0mparameters\u001b[0m\u001b[0;34m.\u001b[0m\u001b[0;34m\u001b[0m\u001b[0;34m\u001b[0m\u001b[0m\n\u001b[1;32m   1337\u001b[0m     \"\"\"\n\u001b[0;32m-> 1338\u001b[0;31m     \u001b[0msaved_model_convert_result\u001b[0m \u001b[0;34m=\u001b[0m \u001b[0mself\u001b[0m\u001b[0;34m.\u001b[0m\u001b[0m_convert_as_saved_model\u001b[0m\u001b[0;34m(\u001b[0m\u001b[0;34m)\u001b[0m\u001b[0;34m\u001b[0m\u001b[0;34m\u001b[0m\u001b[0m\n\u001b[0m\u001b[1;32m   1339\u001b[0m     \u001b[0;32mif\u001b[0m \u001b[0msaved_model_convert_result\u001b[0m\u001b[0;34m:\u001b[0m\u001b[0;34m\u001b[0m\u001b[0;34m\u001b[0m\u001b[0m\n\u001b[1;32m   1340\u001b[0m       \u001b[0;32mreturn\u001b[0m \u001b[0msaved_model_convert_result\u001b[0m\u001b[0;34m\u001b[0m\u001b[0;34m\u001b[0m\u001b[0m\n",
            "\u001b[0;32m/usr/local/lib/python3.7/dist-packages/tensorflow/lite/python/lite.py\u001b[0m in \u001b[0;36m_convert_as_saved_model\u001b[0;34m(self)\u001b[0m\n\u001b[1;32m   1319\u001b[0m       \u001b[0;32mif\u001b[0m \u001b[0mself\u001b[0m\u001b[0;34m.\u001b[0m\u001b[0msaved_model_dir\u001b[0m\u001b[0;34m:\u001b[0m\u001b[0;34m\u001b[0m\u001b[0;34m\u001b[0m\u001b[0m\n\u001b[1;32m   1320\u001b[0m         return super(TFLiteKerasModelConverterV2,\n\u001b[0;32m-> 1321\u001b[0;31m                      self).convert(graph_def, input_tensors, output_tensors)\n\u001b[0m\u001b[1;32m   1322\u001b[0m     \u001b[0;32mfinally\u001b[0m\u001b[0;34m:\u001b[0m\u001b[0;34m\u001b[0m\u001b[0;34m\u001b[0m\u001b[0m\n\u001b[1;32m   1323\u001b[0m       \u001b[0mshutil\u001b[0m\u001b[0;34m.\u001b[0m\u001b[0mrmtree\u001b[0m\u001b[0;34m(\u001b[0m\u001b[0mtemp_dir\u001b[0m\u001b[0;34m,\u001b[0m \u001b[0;32mTrue\u001b[0m\u001b[0;34m)\u001b[0m\u001b[0;34m\u001b[0m\u001b[0;34m\u001b[0m\u001b[0m\n",
            "\u001b[0;32m/usr/local/lib/python3.7/dist-packages/tensorflow/lite/python/lite.py\u001b[0m in \u001b[0;36mconvert\u001b[0;34m(self, graph_def, input_tensors, output_tensors)\u001b[0m\n\u001b[1;32m   1133\u001b[0m         \u001b[0minput_tensors\u001b[0m\u001b[0;34m=\u001b[0m\u001b[0minput_tensors\u001b[0m\u001b[0;34m,\u001b[0m\u001b[0;34m\u001b[0m\u001b[0;34m\u001b[0m\u001b[0m\n\u001b[1;32m   1134\u001b[0m         \u001b[0moutput_tensors\u001b[0m\u001b[0;34m=\u001b[0m\u001b[0moutput_tensors\u001b[0m\u001b[0;34m,\u001b[0m\u001b[0;34m\u001b[0m\u001b[0;34m\u001b[0m\u001b[0m\n\u001b[0;32m-> 1135\u001b[0;31m         **converter_kwargs)\n\u001b[0m\u001b[1;32m   1136\u001b[0m \u001b[0;34m\u001b[0m\u001b[0m\n\u001b[1;32m   1137\u001b[0m     return self._optimize_tflite_model(\n",
            "\u001b[0;32m/usr/local/lib/python3.7/dist-packages/tensorflow/lite/python/convert_phase.py\u001b[0m in \u001b[0;36mwrapper\u001b[0;34m(*args, **kwargs)\u001b[0m\n\u001b[1;32m    210\u001b[0m         \u001b[0;32melse\u001b[0m\u001b[0;34m:\u001b[0m\u001b[0;34m\u001b[0m\u001b[0;34m\u001b[0m\u001b[0m\n\u001b[1;32m    211\u001b[0m           \u001b[0mreport_error_message\u001b[0m\u001b[0;34m(\u001b[0m\u001b[0mstr\u001b[0m\u001b[0;34m(\u001b[0m\u001b[0mconverter_error\u001b[0m\u001b[0;34m)\u001b[0m\u001b[0;34m)\u001b[0m\u001b[0;34m\u001b[0m\u001b[0;34m\u001b[0m\u001b[0m\n\u001b[0;32m--> 212\u001b[0;31m         \u001b[0;32mraise\u001b[0m \u001b[0mconverter_error\u001b[0m \u001b[0;32mfrom\u001b[0m \u001b[0;32mNone\u001b[0m  \u001b[0;31m# Re-throws the exception.\u001b[0m\u001b[0;34m\u001b[0m\u001b[0;34m\u001b[0m\u001b[0m\n\u001b[0m\u001b[1;32m    213\u001b[0m       \u001b[0;32mexcept\u001b[0m \u001b[0mException\u001b[0m \u001b[0;32mas\u001b[0m \u001b[0merror\u001b[0m\u001b[0;34m:\u001b[0m\u001b[0;34m\u001b[0m\u001b[0;34m\u001b[0m\u001b[0m\n\u001b[1;32m    214\u001b[0m         \u001b[0mreport_error_message\u001b[0m\u001b[0;34m(\u001b[0m\u001b[0mstr\u001b[0m\u001b[0;34m(\u001b[0m\u001b[0merror\u001b[0m\u001b[0;34m)\u001b[0m\u001b[0;34m)\u001b[0m\u001b[0;34m\u001b[0m\u001b[0;34m\u001b[0m\u001b[0m\n",
            "\u001b[0;32m/usr/local/lib/python3.7/dist-packages/tensorflow/lite/python/convert_phase.py\u001b[0m in \u001b[0;36mwrapper\u001b[0;34m(*args, **kwargs)\u001b[0m\n\u001b[1;32m    203\u001b[0m     \u001b[0;32mdef\u001b[0m \u001b[0mwrapper\u001b[0m\u001b[0;34m(\u001b[0m\u001b[0;34m*\u001b[0m\u001b[0margs\u001b[0m\u001b[0;34m,\u001b[0m \u001b[0;34m**\u001b[0m\u001b[0mkwargs\u001b[0m\u001b[0;34m)\u001b[0m\u001b[0;34m:\u001b[0m\u001b[0;34m\u001b[0m\u001b[0;34m\u001b[0m\u001b[0m\n\u001b[1;32m    204\u001b[0m       \u001b[0;32mtry\u001b[0m\u001b[0;34m:\u001b[0m\u001b[0;34m\u001b[0m\u001b[0;34m\u001b[0m\u001b[0m\n\u001b[0;32m--> 205\u001b[0;31m         \u001b[0;32mreturn\u001b[0m \u001b[0mfunc\u001b[0m\u001b[0;34m(\u001b[0m\u001b[0;34m*\u001b[0m\u001b[0margs\u001b[0m\u001b[0;34m,\u001b[0m \u001b[0;34m**\u001b[0m\u001b[0mkwargs\u001b[0m\u001b[0;34m)\u001b[0m\u001b[0;34m\u001b[0m\u001b[0;34m\u001b[0m\u001b[0m\n\u001b[0m\u001b[1;32m    206\u001b[0m       \u001b[0;32mexcept\u001b[0m \u001b[0mConverterError\u001b[0m \u001b[0;32mas\u001b[0m \u001b[0mconverter_error\u001b[0m\u001b[0;34m:\u001b[0m\u001b[0;34m\u001b[0m\u001b[0;34m\u001b[0m\u001b[0m\n\u001b[1;32m    207\u001b[0m         \u001b[0;32mif\u001b[0m \u001b[0mconverter_error\u001b[0m\u001b[0;34m.\u001b[0m\u001b[0merrors\u001b[0m\u001b[0;34m:\u001b[0m\u001b[0;34m\u001b[0m\u001b[0;34m\u001b[0m\u001b[0m\n",
            "\u001b[0;32m/usr/local/lib/python3.7/dist-packages/tensorflow/lite/python/convert.py\u001b[0m in \u001b[0;36mconvert_graphdef\u001b[0;34m(input_data, input_tensors, output_tensors, **kwargs)\u001b[0m\n\u001b[1;32m    797\u001b[0m       \u001b[0minput_data\u001b[0m\u001b[0;34m.\u001b[0m\u001b[0mSerializeToString\u001b[0m\u001b[0;34m(\u001b[0m\u001b[0;34m)\u001b[0m\u001b[0;34m,\u001b[0m\u001b[0;34m\u001b[0m\u001b[0;34m\u001b[0m\u001b[0m\n\u001b[1;32m    798\u001b[0m       \u001b[0mdebug_info_str\u001b[0m\u001b[0;34m=\u001b[0m\u001b[0mdebug_info\u001b[0m\u001b[0;34m.\u001b[0m\u001b[0mSerializeToString\u001b[0m\u001b[0;34m(\u001b[0m\u001b[0;34m)\u001b[0m \u001b[0;32mif\u001b[0m \u001b[0mdebug_info\u001b[0m \u001b[0;32melse\u001b[0m \u001b[0;32mNone\u001b[0m\u001b[0;34m,\u001b[0m\u001b[0;34m\u001b[0m\u001b[0;34m\u001b[0m\u001b[0m\n\u001b[0;32m--> 799\u001b[0;31m       enable_mlir_converter=enable_mlir_converter)\n\u001b[0m\u001b[1;32m    800\u001b[0m   \u001b[0;32mreturn\u001b[0m \u001b[0mdata\u001b[0m\u001b[0;34m\u001b[0m\u001b[0;34m\u001b[0m\u001b[0m\n\u001b[1;32m    801\u001b[0m \u001b[0;34m\u001b[0m\u001b[0m\n",
            "\u001b[0;32m/usr/local/lib/python3.7/dist-packages/tensorflow/lite/python/convert.py\u001b[0m in \u001b[0;36mconvert\u001b[0;34m(model_flags_str, conversion_flags_str, input_data_str, debug_info_str, enable_mlir_converter)\u001b[0m\n\u001b[1;32m    309\u001b[0m       \u001b[0;32mfor\u001b[0m \u001b[0merror_data\u001b[0m \u001b[0;32min\u001b[0m \u001b[0m_metrics_wrapper\u001b[0m\u001b[0;34m.\u001b[0m\u001b[0mretrieve_collected_errors\u001b[0m\u001b[0;34m(\u001b[0m\u001b[0;34m)\u001b[0m\u001b[0;34m:\u001b[0m\u001b[0;34m\u001b[0m\u001b[0;34m\u001b[0m\u001b[0m\n\u001b[1;32m    310\u001b[0m         \u001b[0mconverter_error\u001b[0m\u001b[0;34m.\u001b[0m\u001b[0mappend_error\u001b[0m\u001b[0;34m(\u001b[0m\u001b[0merror_data\u001b[0m\u001b[0;34m)\u001b[0m\u001b[0;34m\u001b[0m\u001b[0;34m\u001b[0m\u001b[0m\n\u001b[0;32m--> 311\u001b[0;31m       \u001b[0;32mraise\u001b[0m \u001b[0mconverter_error\u001b[0m\u001b[0;34m\u001b[0m\u001b[0;34m\u001b[0m\u001b[0m\n\u001b[0m\u001b[1;32m    312\u001b[0m \u001b[0;34m\u001b[0m\u001b[0m\n\u001b[1;32m    313\u001b[0m   return _run_deprecated_conversion_binary(model_flags_str,\n",
            "\u001b[0;31mConverterError\u001b[0m: /usr/local/lib/python3.7/dist-packages/keras/saving/save.py:209:0: error: 'tf.SimpleMLCreateModelResource' op is neither a custom op nor a flex op\n<unknown>:0: note: loc(fused[\"StatefulPartitionedCall:\", \"StatefulPartitionedCall\"]): called from\n/usr/local/lib/python3.7/dist-packages/keras/saving/save.py:209:0: note: Error code: ERROR_NEEDS_CUSTOM_OPS\n/usr/local/lib/python3.7/dist-packages/keras/saving/save.py:209:0: error: 'tf.SimpleMLInferenceOpWithHandle' op is neither a custom op nor a flex op\n<unknown>:0: note: loc(fused[\"StatefulPartitionedCall:\", \"StatefulPartitionedCall_2\"]): called from\n/usr/local/lib/python3.7/dist-packages/keras/saving/save.py:209:0: note: Error code: ERROR_NEEDS_CUSTOM_OPS\n<unknown>:0: error: failed while converting: 'main': \nSome ops in the model are custom ops, See instructions to implement custom ops: https://www.tensorflow.org/lite/guide/ops_custom \nCustom ops: SimpleMLCreateModelResource, SimpleMLInferenceOpWithHandle\nDetails:\n\ttf.SimpleMLCreateModelResource() -> (tensor<!tf_type.resource>) : {container = \"\", device = \"\", shared_name = \"simple_ml_model_f6fb1e5e-78b1-489a-94e7-e4102cc5ee72_load_10350\"}\n\ttf.SimpleMLInferenceOpWithHandle(tensor<?x23xf32>, tensor<0x0xf32>, tensor<0x0xi32>, tensor<0xi32>, tensor<1xi64>, tensor<1xi64>, tensor<!tf_type.resource>) -> (tensor<?x4xf32>, tensor<4x!tf_type.string>) : {dense_output_dim = 4 : i64, device = \"\"}\n\n"
          ]
        }
      ]
    },
    {
      "cell_type": "code",
      "source": [
        "# Check its architecture\n",
        "load_model.summary()"
      ],
      "metadata": {
        "id": "IemPZt7ntuKC",
        "outputId": "2ad18e1d-5bed-4880-a8d5-93f8f8b4f529",
        "colab": {
          "base_uri": "https://localhost:8080/"
        }
      },
      "execution_count": null,
      "outputs": [
        {
          "output_type": "stream",
          "name": "stdout",
          "text": [
            "Model: \"random_forest_model_1\"\n",
            "_________________________________________________________________\n",
            " Layer (type)                Output Shape              Param #   \n",
            "=================================================================\n",
            "=================================================================\n",
            "Total params: 1\n",
            "Trainable params: 0\n",
            "Non-trainable params: 1\n",
            "_________________________________________________________________\n"
          ]
        }
      ]
    },
    {
      "cell_type": "code",
      "source": [
        "# Evaluate the restored model\n",
        "loss, acc = load_model.evaluate(test_ds, verbose=2)\n",
        "print('Restored model, accuracy: {:5.2f}%'.format(100 * acc))\n"
      ],
      "metadata": {
        "colab": {
          "base_uri": "https://localhost:8080/"
        },
        "id": "YVtwhL_lTHmM",
        "outputId": "9646a11e-37e8-4b2b-ee59-df508dbde323"
      },
      "execution_count": null,
      "outputs": [
        {
          "output_type": "stream",
          "name": "stdout",
          "text": [
            "30/30 - 1s - loss: 0.0000e+00 - accuracy: 0.9600 - 986ms/epoch - 33ms/step\n",
            "Restored model, accuracy: 96.00%\n"
          ]
        }
      ]
    },
    {
      "cell_type": "code",
      "source": [
        "#  TEST for Algorithm with new Data\n",
        "\n",
        "#Random Forest with basic sensors (not Heading) + Dist Metro and Bus Corridors & IsAndroid\n",
        "\"\"\"\n",
        "Created on Thu June 9 2022\n",
        "\n",
        "@author: BC\n",
        "\"\"\"\n",
        "\n",
        "\n",
        "#%pip install tensorflow_decision_forests\n",
        "\n",
        "import tensorflow_decision_forests as tfdf\n",
        "import tensorflow as tf\n",
        "import numpy as np\n",
        "import pandas as pd\n",
        "from datetime import datetime\n",
        "import math\n",
        "from sklearn.preprocessing import LabelEncoder\n",
        "from sklearn.model_selection import StratifiedShuffleSplit  # to do stratified sampling\n",
        "from sklearn.model_selection import train_test_split\n",
        "\n",
        "from sklearn.metrics import accuracy_score\n",
        "from sklearn.metrics import classification_report, confusion_matrix, roc_auc_score\n",
        "\n",
        "from scipy.stats import skew\n",
        "from scipy.stats import kurtosis\n",
        "from tensorflow.keras import Sequential\n",
        "from tensorflow.keras.layers import Dense\n",
        "import tensorflow as tf\n",
        "import os\n",
        "\n",
        "import importlib\n",
        "\n",
        "\n",
        "# upload raw data\n",
        "df = pd.read_csv('new_test_20.csv')\n",
        "\n",
        "total = len(df)\n",
        "\n",
        "# feature engineering with statistical features\n",
        "dataList = df.values.tolist()\n",
        "\n",
        "Number_variable = 11 # number of variables (without heading )\n",
        "Number_rawsessions = 6 # number of snapshots for aggregation\n",
        "Gap_between_snapshot = 120000 #nano_seconds\n",
        "\n",
        "Datanew = []\n",
        "\n",
        "count = 0\n",
        "for i in range(len(dataList)):\n",
        "    #print(i)\n",
        "    # Pour changer le nombre de snapshot à considérer\n",
        "    if (i>=5 and i!=(len(dataList)-1)):\n",
        "        if (\n",
        "           #6 first snapshot have the same TM\n",
        "            dataList[i][4]==dataList[i-1][4] and dataList[i][4]==dataList[i-2][4] \n",
        "            and dataList[i][4]==dataList[i-3][4] and dataList[i][4]==dataList[i-4][4] \n",
        "            and dataList[i][4]==dataList[i-5][4]  \n",
        "\n",
        "            #TM are only Car\n",
        "            and dataList[i][4]!='walk' and dataList[i][4]!='run' and dataList[i][4]!='bike' \n",
        "\n",
        "            #All the same user\n",
        "            and dataList[i][6]==dataList[i-1][6] and dataList[i][6]==dataList[i-2][6] \n",
        "            and dataList[i][6]==dataList[i-3][6] and dataList[i][6]==dataList[i-4][6] \n",
        "            and dataList[i][6]==dataList[i-5][6]\n",
        "\n",
        "            #Maximum gap  between snapshot...\n",
        "            and (dataList[i][5]-dataList[i-1][5])<Gap_between_snapshot and (dataList[i-1][5]-dataList[i-2][5])<Gap_between_snapshot \n",
        "            and (dataList[i-2][5]-dataList[i-3][5])<Gap_between_snapshot and (dataList[i-3][5]-dataList[i-4][5])<Gap_between_snapshot \n",
        "            and (dataList[i-4][5]-dataList[i-5][5])<Gap_between_snapshot\n",
        "\n",
        "            ):\n",
        "            #X=[count,dataList[i][13]]\n",
        "            # [dataList[i][0]: PID\n",
        "            # dataList[i][5]: Transport mode \n",
        "            X=[dataList[i][0], count, dataList[i][4]] #variables:PID, count y ActitivityType\n",
        "            #print(dataList[i][5])\n",
        "            #print(dataList[i-1][1])\n",
        "            for j in range(Number_variable):\n",
        "                if ((j+1) < 4): # con esto se que solo abarca :speed,  accuracy and altitde variables (col 1 a 3)\n",
        "              #10 = distance -» Tout sauf distanceBus et Train apres mangent (6)\n",
        "           #     if ((j+1) < 4 ):\n",
        "                  data = [dataList[i-1][j+1],dataList[i][j+1],dataList[i-2][j+1],dataList[i-3][j+1],dataList[i-4][j+1],dataList[i-5][j+1]]  \n",
        "                  x1 =  np.min(data)\n",
        "                  x2 =  np.max(data)\n",
        "                  x3 =  np.mean(data)\n",
        "                  x4 =  np.std(data)\n",
        "                  \n",
        "                  #new features\n",
        "                  x5 =  np.median(data)\n",
        "                  x6 =  np.percentile((data),75)\n",
        "\n",
        "                  X = X+[x1,x2,x3,x4,x5,x6]\n",
        "\n",
        "                if ((j+1) >= 7 and (j+1) < 11): #con esto solo cubre las columnas: busDistanceStops, TrainDistance, BusCorridorDistance and MetroDistance\n",
        "                  x1 = np.sum([dataList[i-1][j+1],dataList[i][j+1],dataList[i-2][j+1],dataList[i-3][j+1],dataList[i-4][j+1],dataList[i-5][j+1]])\n",
        "                  X = X + [x1]\n",
        "                if ((j+1) == 11 ): # se refiere a la variable \"isAndroid\"\n",
        "                  x1 = dataList[i][j+1]\n",
        "                  X = X + [x1]\n",
        "\n",
        "            Datanew.append(X) \n",
        "            count = count + 1\n",
        "            #print(X)\n",
        "#random.shuffle(Datanew)\n",
        "\n",
        "Features= pd.DataFrame(Datanew, columns = ['id', 'count', 'transportation_mode', \n",
        "                              'minSpeed' ,'maxSpeed', 'meanSpeed', 'stdSpeed','medianSpeed','75thPerSpeed',\n",
        "                              'minAccuracy' ,'maxAccuracy', 'meanAccuracy', 'stdAccuracy', 'medianAccuracy','75thPerAccuracy',\n",
        "                              'minAlt' ,'maxAlt', 'meanAlt', 'stdAlt', 'medianAlt','75thPerAlt',\n",
        "                              'NumDist','NumDistTrain','NumDistBusCorridor','NumDistMetro','IsAndroid'\n",
        "                              ])\n",
        "\n",
        "\n",
        "# Process to  split data in stratified way\n",
        "data = Features.iloc[0:,2:Features.shape[1]]\n",
        "data['target_labeled'] = LabelEncoder().fit_transform(Features.iloc[0:,2])\n",
        "data =data[['target_labeled','minSpeed' ,'maxSpeed', 'meanSpeed', 'stdSpeed','medianSpeed','75thPerSpeed',\n",
        "                              'minAccuracy' ,'maxAccuracy', 'meanAccuracy', 'stdAccuracy', 'medianAccuracy','75thPerAccuracy',\n",
        "                              'minAlt' ,'maxAlt', 'meanAlt', 'stdAlt', 'medianAlt','75thPerAlt',\n",
        "                              'NumDist','NumDistTrain','NumDistBusCorridor','NumDistMetro','IsAndroid']] \n",
        "\n",
        "# Convert the pandas dataframe into a TensorFlow dataset\n",
        "test_ds = tfdf.keras.pd_dataframe_to_tf_dataset(data, label=\"target_labeled\")\n",
        "\n",
        "# my_model directory\n",
        "load_model = tf.keras.models.load_model('project/model_randomforest')\n",
        "\n",
        "\n",
        "#predictions = load_model.predict(test_ds)"
      ],
      "metadata": {
        "colab": {
          "base_uri": "https://localhost:8080/"
        },
        "id": "IwDq7WnCSRbq",
        "outputId": "40f9d581-3770-43e9-fcf8-b05b19b45836"
      },
      "execution_count": null,
      "outputs": [
        {
          "output_type": "stream",
          "name": "stderr",
          "text": [
            "/usr/local/lib/python3.7/dist-packages/tensorflow_decision_forests/keras/core.py:2542: FutureWarning: In a future version of pandas all arguments of DataFrame.drop except for the argument 'labels' will be keyword-only\n",
            "  features_dataframe = dataframe.drop(label, 1)\n"
          ]
        }
      ]
    }
  ],
  "metadata": {
    "colab": {
      "collapsed_sections": [],
      "name": "Model_RandomForest.ipynb",
      "provenance": [],
      "include_colab_link": true
    },
    "kernelspec": {
      "display_name": "Python 3",
      "name": "python3"
    }
  },
  "nbformat": 4,
  "nbformat_minor": 0
}